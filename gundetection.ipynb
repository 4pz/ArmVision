{
  "nbformat": 4,
  "nbformat_minor": 0,
  "metadata": {
    "colab": {
      "name": "gundetection.ipynb",
      "provenance": [],
      "collapsed_sections": [],
      "authorship_tag": "ABX9TyOmBqLPWo6iClg6crYsc22S",
      "include_colab_link": true
    },
    "kernelspec": {
      "name": "python3",
      "display_name": "Python 3"
    },
    "accelerator": "GPU"
  },
  "cells": [
    {
      "cell_type": "markdown",
      "metadata": {
        "id": "view-in-github",
        "colab_type": "text"
      },
      "source": [
        "<a href=\"https://colab.research.google.com/github/Simple2006/gun_det/blob/main/gundetection.ipynb\" target=\"_parent\"><img src=\"https://colab.research.google.com/assets/colab-badge.svg\" alt=\"Open In Colab\"/></a>"
      ]
    },
    {
      "cell_type": "code",
      "metadata": {
        "id": "icxORrg-ka0-"
      },
      "source": [
        "import matplotlib.pyplot as plt\r\n",
        "import pandas as pd\r\n",
        "import seaborn as sns\r\n",
        "import numpy as np\r\n",
        "import tensorflow as tf\r\n",
        "from tensorflow.keras.datasets import cifar10\r\n",
        "import tensorflow.keras\r\n",
        "from tensorflow.keras.models import Sequential\r\n",
        "from tensorflow.keras.layers import Activation, MaxPooling2D, Dropout, Flatten, Reshape, Dense, Conv2D, GlobalAveragePooling2D\r\n",
        "from tensorflow.keras.wrappers.scikit_learn import KerasClassifier\r\n",
        "import tensorflow.keras.optimizers as optimizers\r\n",
        "from tensorflow.keras.callbacks import ModelCheckpoint\r\n",
        "from tensorflow.keras.applications import VGG16, VGG19, ResNet50, DenseNet121\r\n",
        "from sklearn.model_selection import train_test_split\r\n",
        "from PIL import Image\r\n",
        "import gdown\r\n",
        "from IPython import display\r\n",
        "from skimage import data, color\r\n",
        "from skimage.transform import rescale, resize, downscale_local_mean\r\n",
        "\r\n",
        "def normalize(data):\r\n",
        "  # CIFAR100 mean (0.4914, 0.4822, 0.4465) std (0.2023, 0.1994, 0.2010)\r\n",
        "  return (data/255-np.array((0.4914, 0.4822, 0.4465))) / np.array((0.2023, 0.1994, 0.2010))\r\n",
        "\r\n",
        "def TransferClassifier_func(name, nn_params, trainable = True):\r\n",
        "  expert_dict = {'VGG16': VGG16, \r\n",
        "                  'VGG19': VGG19,\r\n",
        "                  'ResNet50':ResNet50,\r\n",
        "                  'DenseNet121':DenseNet121}\r\n",
        "\r\n",
        "  expert_conv = expert_dict[name](weights = 'imagenet', \r\n",
        "                                            include_top = False, \r\n",
        "                                            input_shape = nn_params['input_shape'])\r\n",
        "  for layer in expert_conv.layers:\r\n",
        "    layer.trainable = trainable\r\n",
        "    \r\n",
        "  expert_model = Sequential()\r\n",
        "  expert_model.add(expert_conv)\r\n",
        "  expert_model.add(GlobalAveragePooling2D())\r\n",
        "\r\n",
        "  expert_model.add(Dense(128, activation = 'relu'))\r\n",
        "  expert_model.add(Dropout(0.3))\r\n",
        "\r\n",
        "  expert_model.add(Dense(64, activation = 'relu'))\r\n",
        "\r\n",
        "  expert_model.add(Dense(nn_params['output_neurons'], activation = nn_params['output_activation']))\r\n",
        "\r\n",
        "  expert_model.compile(loss = nn_params['loss'], \r\n",
        "                optimizer = optimizers.SGD(lr=nn_params['learning_rate'], momentum=nn_params['momentum']), \r\n",
        "                metrics=['accuracy'])\r\n",
        "\r\n",
        "  return expert_model\r\n",
        "\r\n",
        "def label_to_onehot(labels):\r\n",
        "  final_labels = np.zeros((len(labels), 2))\r\n",
        "  for i in range(len(labels)):\r\n",
        "    label = labels[i]\r\n",
        "    if label == 0:\r\n",
        "      final_labels[i,:] = np.array([0, 1])\r\n",
        "    if label == 1:\r\n",
        "      final_labels[i,:] = np.array([1, 0])\r\n",
        "  return final_labels\r\n",
        "\r\n",
        "def plot_acc(history, ax = None, xlabel = 'Epoch #'):\r\n",
        "  # i'm sorry for this function's code. i am so sorry. \r\n",
        "  history = history.history\r\n",
        "  history.update({'epoch':list(range(len(history['val_accuracy'])))})\r\n",
        "  history = pd.DataFrame.from_dict(history)\r\n",
        "\r\n",
        "  best_epoch = history.sort_values(by = 'val_accuracy', ascending = False).iloc[0]['epoch']\r\n",
        "\r\n",
        "  if not ax:\r\n",
        "    f, ax = plt.subplots(1,1)\r\n",
        "  sns.lineplot(x = 'epoch', y = 'val_accuracy', data = history, label = 'Validation', ax = ax)\r\n",
        "  sns.lineplot(x = 'epoch', y = 'accuracy', data = history, label = 'Training', ax = ax)\r\n",
        "  ax.axhline(0.333, linestyle = '--',color='red', label = 'Chance')\r\n",
        "  ax.axvline(x = best_epoch, linestyle = '--', color = 'green', label = 'Best Epoch')  \r\n",
        "  ax.legend(loc = 1)    \r\n",
        "  ax.set_ylim([0.01, 1])\r\n",
        "\r\n",
        "  ax.set_xlabel(xlabel)\r\n",
        "  ax.set_ylabel('Accuracy (Fraction)')\r\n",
        "  \r\n",
        "  plt.show()\r\n",
        "\r\n",
        "# neural net parameters\r\n",
        "image_shape          = (32, 32, 3)\r\n",
        "nn_params = {}\r\n",
        "nn_params['input_shape']       = image_shape\r\n",
        "nn_params['output_neurons']    = 2\r\n",
        "nn_params['loss']              = 'categorical_crossentropy'\r\n",
        "nn_params['output_activation'] = 'softmax'\r\n",
        "nn_params['learning_rate'] = 1e-3\r\n",
        "nn_params['momentum'] = 0.9\r\n",
        "\r\n",
        "TransferClassifier  = lambda name: TransferClassifier_func(name = name, nn_params = nn_params);"
      ],
      "execution_count": 8,
      "outputs": []
    },
    {
      "cell_type": "code",
      "metadata": {
        "colab": {
          "base_uri": "https://localhost:8080/"
        },
        "id": "e2sXi9_d-pxC",
        "outputId": "08dafb86-d46b-415d-847b-2ea61edaa916"
      },
      "source": [
        "from google.colab import drive\n",
        "drive.mount('/content/drive')"
      ],
      "execution_count": 2,
      "outputs": [
        {
          "output_type": "stream",
          "text": [
            "Mounted at /content/drive\n"
          ],
          "name": "stdout"
        }
      ]
    },
    {
      "cell_type": "code",
      "metadata": {
        "id": "gl4URg-Vkqxr"
      },
      "source": [
        "import cv2\r\n",
        "import os\r\n",
        "import numpy as np\r\n",
        "\r\n",
        "def load_images_from_folder(folder):\r\n",
        "    images = []\r\n",
        "    for filename in os.listdir(folder):\r\n",
        "        img = cv2.imread(os.path.join(folder,filename))\r\n",
        "        if img is not None:\r\n",
        "            new_height = 32\r\n",
        "            new_width = 32\r\n",
        "            dsize = (new_width, new_height)\r\n",
        "            resized = cv2.resize(img, dsize)\r\n",
        "            images.append(resized)\r\n",
        "    return images\r\n",
        "folder=\"/content/drive/MyDrive/data/guns\"\r\n",
        "bfolder=\"/content/drive/MyDrive/data/not guns\""
      ],
      "execution_count": 9,
      "outputs": []
    },
    {
      "cell_type": "code",
      "metadata": {
        "id": "sCt1H2y2krVM"
      },
      "source": [
        "pictures = load_images_from_folder(folder)"
      ],
      "execution_count": 10,
      "outputs": []
    },
    {
      "cell_type": "code",
      "metadata": {
        "id": "v70Tfro-pZKN"
      },
      "source": [
        "backgroundpictures = load_images_from_folder(bfolder)"
      ],
      "execution_count": 11,
      "outputs": []
    },
    {
      "cell_type": "code",
      "metadata": {
        "colab": {
          "base_uri": "https://localhost:8080/"
        },
        "id": "ceaTWzBsksg8",
        "outputId": "2649d270-e402-4a5d-97f0-3d2c95770c59"
      },
      "source": [
        "totalpictures = []\r\n",
        "totalpictures.append(pictures)\r\n",
        "totalpictures.append(backgroundpictures)\r\n",
        "new_total = []\r\n",
        "#new_size = (32, 32, 3)\r\n",
        "#for image in totalpictures:\r\n",
        "#  a = np.reshape(image, new_size)\r\n",
        "#  new_total.append(a)\r\n",
        "totalStack = np.stack(totalpictures)\r\n",
        "print(np.shape(totalpictures))\r\n",
        "print(np.shape(totalStack))"
      ],
      "execution_count": 12,
      "outputs": [
        {
          "output_type": "stream",
          "text": [
            "(2, 100, 32, 32, 3)\n",
            "(2, 100, 32, 32, 3)\n"
          ],
          "name": "stdout"
        }
      ]
    },
    {
      "cell_type": "code",
      "metadata": {
        "id": "Um8QKt55ktpG"
      },
      "source": [
        "normalizedX = normalize(np.array(totalpictures))\r\n",
        "onesG = np.ones((100), dtype=int)\r\n",
        "zerosNG = np.zeros((100), dtype=int)"
      ],
      "execution_count": 13,
      "outputs": []
    },
    {
      "cell_type": "code",
      "metadata": {
        "colab": {
          "base_uri": "https://localhost:8080/"
        },
        "id": "xBIOSmS-kuqv",
        "outputId": "d2f1e52b-3ad6-4a70-d934-bafa8f24e1dd"
      },
      "source": [
        "labels = []\r\n",
        "labels.append(onesG)\r\n",
        "labels.append(zerosNG)\r\n",
        "#print(np.shape(labels))\r\n",
        "print(nn_params[\"output_neurons\"])"
      ],
      "execution_count": 14,
      "outputs": [
        {
          "output_type": "stream",
          "text": [
            "2\n"
          ],
          "name": "stdout"
        }
      ]
    },
    {
      "cell_type": "code",
      "metadata": {
        "colab": {
          "base_uri": "https://localhost:8080/"
        },
        "id": "lQ96n0axkvm_",
        "outputId": "bdf81903-ad63-4968-ef7c-c6480af2eca4"
      },
      "source": [
        "X_train, X_test, y_train, y_test = train_test_split(totalpictures, labels, test_size=0.33, random_state=42)\r\n",
        "print(np.shape(X_train))\r\n",
        "print(y_test)\r\n",
        "#print(X_train)"
      ],
      "execution_count": 15,
      "outputs": [
        {
          "output_type": "stream",
          "text": [
            "(1, 100, 32, 32, 3)\n",
            "[array([0, 0, 0, 0, 0, 0, 0, 0, 0, 0, 0, 0, 0, 0, 0, 0, 0, 0, 0, 0, 0, 0,\n",
            "       0, 0, 0, 0, 0, 0, 0, 0, 0, 0, 0, 0, 0, 0, 0, 0, 0, 0, 0, 0, 0, 0,\n",
            "       0, 0, 0, 0, 0, 0, 0, 0, 0, 0, 0, 0, 0, 0, 0, 0, 0, 0, 0, 0, 0, 0,\n",
            "       0, 0, 0, 0, 0, 0, 0, 0, 0, 0, 0, 0, 0, 0, 0, 0, 0, 0, 0, 0, 0, 0,\n",
            "       0, 0, 0, 0, 0, 0, 0, 0, 0, 0, 0, 0])]\n"
          ],
          "name": "stdout"
        }
      ]
    },
    {
      "cell_type": "code",
      "metadata": {
        "id": "VjsFG15zzKow"
      },
      "source": [
        "'''my_size = (100, 32, 32, 3)\r\n",
        "my_size1 = (100,)\r\n",
        "X_train = np.reshape(X_train, my_size)\r\n",
        "X_test = np.reshape(X_test, my_size)\r\n",
        "y_train = np.reshape(y_train, my_size1)\r\n",
        "y_test = np.reshape(y_test, my_size1)\r\n",
        "y_train = label_to_onehot(y_train)\r\n",
        "y_test = label_to_onehot(y_test)\r\n",
        "print(np.shape(X_train))\r\n",
        "print(np.shape(y_train))\r\n",
        "print(np.shape(X_test))\r\n",
        "print(np.shape(y_test))\r\n",
        "transfer = TransferClassifier(name = \"VGG16\")\r\n",
        "transfer.fit(X_train, y_train, epochs = 20, validation_data = (X_test, y_test), shuffle = True)'''"
      ],
      "execution_count": null,
      "outputs": []
    },
    {
      "cell_type": "code",
      "metadata": {
        "colab": {
          "base_uri": "https://localhost:8080/",
          "height": 1000
        },
        "id": "H_g_r52HSIGz",
        "outputId": "aae39a00-f648-499b-8fd9-4fb708e988ee"
      },
      "source": [
        "my_size = (100, 32, 32, 3)\r\n",
        "my_size1 = (100,)\r\n",
        "new_X_train = []\r\n",
        "new_X_test = []\r\n",
        "\r\n",
        "new_X_train = np.reshape(X_train, my_size)\r\n",
        "new_X_test = np.reshape(X_test, my_size)\r\n",
        "#new_X_train = np.stack(new_X_train)\r\n",
        "plt.imshow(new_X_train[1])\r\n",
        "print(np.shape(new_X_train))\r\n",
        "print(np.shape(new_X_test))\r\n",
        "print(np.shape(y_train))\r\n",
        "print(np.shape(y_test))\r\n",
        "\r\n",
        "y_train = np.reshape(y_train, my_size1)\r\n",
        "y_test = np.reshape(y_test, my_size1)\r\n",
        "y_train = label_to_onehot(y_train)\r\n",
        "y_test = label_to_onehot(y_test)\r\n",
        "vgg_expert = VGG16(weights = 'imagenet', include_top = False, input_shape = (32, 32, 3))\r\n",
        "vgg_model = Sequential()\r\n",
        "vgg_model.add(vgg_expert)\r\n",
        "vgg_model.add(GlobalAveragePooling2D())\r\n",
        "vgg_model.add(Dense(1024, activation = 'relu'))\r\n",
        "vgg_model.add(Dropout(0.9))\r\n",
        "vgg_model.add(Dense(512, activation = 'relu'))\r\n",
        "vgg_model.add(Dropout(0.9))\r\n",
        "vgg_model.add(Dense(2, activation = 'sigmoid'))\r\n",
        "#\r\n",
        "vgg_model.compile(\r\n",
        "    loss = \"binary_crossentropy\",\r\n",
        "    optimizer = optimizers.SGD(lr = 1e-4, momentum = 0.95),\r\n",
        "    metrics = [\"accuracy\"]\r\n",
        ")\r\n",
        "vgg_model.fit(new_X_train, y_train, epochs = 100, validation_data = (new_X_test, y_test), shuffle = True)\r\n",
        "vgg_model.predict(new_X_test)"
      ],
      "execution_count": 77,
      "outputs": [
        {
          "output_type": "stream",
          "text": [
            "(100, 32, 32, 3)\n",
            "(100, 32, 32, 3)\n",
            "(1, 100)\n",
            "(1, 100)\n",
            "Epoch 1/100\n",
            "4/4 [==============================] - 1s 125ms/step - loss: 27.2483 - accuracy: 0.5565 - val_loss: 1.4521 - val_accuracy: 0.0000e+00\n",
            "Epoch 2/100\n",
            "4/4 [==============================] - 0s 58ms/step - loss: 2.7819 - accuracy: 0.7104 - val_loss: 1.0956 - val_accuracy: 0.0000e+00\n",
            "Epoch 3/100\n",
            "4/4 [==============================] - 0s 46ms/step - loss: 0.8541 - accuracy: 0.7755 - val_loss: 0.9790 - val_accuracy: 0.0000e+00\n",
            "Epoch 4/100\n",
            "4/4 [==============================] - 0s 43ms/step - loss: 0.5092 - accuracy: 0.8982 - val_loss: 4.3813 - val_accuracy: 0.0000e+00\n",
            "Epoch 5/100\n",
            "4/4 [==============================] - 0s 43ms/step - loss: 1.6482 - accuracy: 0.8707 - val_loss: 7.7341 - val_accuracy: 0.0000e+00\n",
            "Epoch 6/100\n",
            "4/4 [==============================] - 0s 43ms/step - loss: 1.7493 - accuracy: 0.9015 - val_loss: 1.5742 - val_accuracy: 0.0000e+00\n",
            "Epoch 7/100\n",
            "4/4 [==============================] - 0s 42ms/step - loss: 0.3423 - accuracy: 0.8893 - val_loss: 1.8597 - val_accuracy: 0.0000e+00\n",
            "Epoch 8/100\n",
            "4/4 [==============================] - 0s 43ms/step - loss: 0.2586 - accuracy: 0.9540 - val_loss: 4.1679 - val_accuracy: 0.0000e+00\n",
            "Epoch 9/100\n",
            "4/4 [==============================] - 0s 44ms/step - loss: 0.3274 - accuracy: 0.9847 - val_loss: 5.3389 - val_accuracy: 0.0000e+00\n",
            "Epoch 10/100\n",
            "4/4 [==============================] - 0s 44ms/step - loss: 0.1934 - accuracy: 0.9785 - val_loss: 5.4026 - val_accuracy: 0.0000e+00\n",
            "Epoch 11/100\n",
            "4/4 [==============================] - 0s 42ms/step - loss: 0.2604 - accuracy: 0.9600 - val_loss: 3.9145 - val_accuracy: 0.0000e+00\n",
            "Epoch 12/100\n",
            "4/4 [==============================] - 0s 43ms/step - loss: 0.1965 - accuracy: 0.9724 - val_loss: 3.3246 - val_accuracy: 0.0000e+00\n",
            "Epoch 13/100\n",
            "4/4 [==============================] - 0s 43ms/step - loss: 0.0701 - accuracy: 0.9960 - val_loss: 3.4260 - val_accuracy: 0.0000e+00\n",
            "Epoch 14/100\n",
            "4/4 [==============================] - 0s 42ms/step - loss: 0.1022 - accuracy: 1.0000 - val_loss: 3.5653 - val_accuracy: 0.0000e+00\n",
            "Epoch 15/100\n",
            "4/4 [==============================] - 0s 43ms/step - loss: 0.1126 - accuracy: 0.9845 - val_loss: 3.6096 - val_accuracy: 0.0000e+00\n",
            "Epoch 16/100\n",
            "4/4 [==============================] - 0s 44ms/step - loss: 0.0980 - accuracy: 0.9908 - val_loss: 3.7073 - val_accuracy: 0.0000e+00\n",
            "Epoch 17/100\n",
            "4/4 [==============================] - 0s 43ms/step - loss: 0.0920 - accuracy: 1.0000 - val_loss: 3.8081 - val_accuracy: 0.0000e+00\n",
            "Epoch 18/100\n",
            "4/4 [==============================] - 0s 43ms/step - loss: 0.1172 - accuracy: 0.9939 - val_loss: 3.8895 - val_accuracy: 0.0000e+00\n",
            "Epoch 19/100\n",
            "4/4 [==============================] - 0s 43ms/step - loss: 0.0639 - accuracy: 1.0000 - val_loss: 3.9363 - val_accuracy: 0.0000e+00\n",
            "Epoch 20/100\n",
            "4/4 [==============================] - 0s 44ms/step - loss: 0.0314 - accuracy: 1.0000 - val_loss: 3.7933 - val_accuracy: 0.0000e+00\n",
            "Epoch 21/100\n",
            "4/4 [==============================] - 0s 43ms/step - loss: 0.0963 - accuracy: 0.9908 - val_loss: 3.7135 - val_accuracy: 0.0000e+00\n",
            "Epoch 22/100\n",
            "4/4 [==============================] - 0s 45ms/step - loss: 0.0581 - accuracy: 1.0000 - val_loss: 3.7728 - val_accuracy: 0.0000e+00\n",
            "Epoch 23/100\n",
            "4/4 [==============================] - 0s 42ms/step - loss: 0.1110 - accuracy: 0.9753 - val_loss: 3.9284 - val_accuracy: 0.0000e+00\n",
            "Epoch 24/100\n",
            "4/4 [==============================] - 0s 44ms/step - loss: 0.0778 - accuracy: 0.9845 - val_loss: 4.1918 - val_accuracy: 0.0000e+00\n",
            "Epoch 25/100\n",
            "4/4 [==============================] - 0s 43ms/step - loss: 0.1679 - accuracy: 0.9908 - val_loss: 4.1061 - val_accuracy: 0.0000e+00\n",
            "Epoch 26/100\n",
            "4/4 [==============================] - 0s 43ms/step - loss: 0.0594 - accuracy: 1.0000 - val_loss: 4.1229 - val_accuracy: 0.0000e+00\n",
            "Epoch 27/100\n",
            "4/4 [==============================] - 0s 43ms/step - loss: 0.0432 - accuracy: 1.0000 - val_loss: 4.2644 - val_accuracy: 0.0000e+00\n",
            "Epoch 28/100\n",
            "4/4 [==============================] - 0s 44ms/step - loss: 0.0732 - accuracy: 0.9939 - val_loss: 4.4433 - val_accuracy: 0.0000e+00\n",
            "Epoch 29/100\n",
            "4/4 [==============================] - 0s 45ms/step - loss: 0.0684 - accuracy: 1.0000 - val_loss: 4.5442 - val_accuracy: 0.0000e+00\n",
            "Epoch 30/100\n",
            "4/4 [==============================] - 0s 44ms/step - loss: 0.0593 - accuracy: 0.9960 - val_loss: 4.6471 - val_accuracy: 0.0000e+00\n",
            "Epoch 31/100\n",
            "4/4 [==============================] - 0s 43ms/step - loss: 0.0794 - accuracy: 0.9845 - val_loss: 4.5723 - val_accuracy: 0.0000e+00\n",
            "Epoch 32/100\n",
            "4/4 [==============================] - 0s 43ms/step - loss: 0.0410 - accuracy: 1.0000 - val_loss: 4.4789 - val_accuracy: 0.0000e+00\n",
            "Epoch 33/100\n",
            "4/4 [==============================] - 0s 45ms/step - loss: 0.0249 - accuracy: 1.0000 - val_loss: 4.0693 - val_accuracy: 0.0000e+00\n",
            "Epoch 34/100\n",
            "4/4 [==============================] - 0s 44ms/step - loss: 0.0649 - accuracy: 1.0000 - val_loss: 3.7530 - val_accuracy: 0.0000e+00\n",
            "Epoch 35/100\n",
            "4/4 [==============================] - 0s 45ms/step - loss: 0.0371 - accuracy: 1.0000 - val_loss: 3.7114 - val_accuracy: 0.0000e+00\n",
            "Epoch 36/100\n",
            "4/4 [==============================] - 0s 45ms/step - loss: 0.0795 - accuracy: 0.9845 - val_loss: 3.7739 - val_accuracy: 0.0000e+00\n",
            "Epoch 37/100\n",
            "4/4 [==============================] - 0s 43ms/step - loss: 0.0667 - accuracy: 0.9845 - val_loss: 3.8655 - val_accuracy: 0.0000e+00\n",
            "Epoch 38/100\n",
            "4/4 [==============================] - 0s 43ms/step - loss: 0.0412 - accuracy: 1.0000 - val_loss: 4.1109 - val_accuracy: 0.0000e+00\n",
            "Epoch 39/100\n",
            "4/4 [==============================] - 0s 44ms/step - loss: 0.0562 - accuracy: 1.0000 - val_loss: 4.4667 - val_accuracy: 0.0000e+00\n",
            "Epoch 40/100\n",
            "4/4 [==============================] - 0s 44ms/step - loss: 0.0504 - accuracy: 1.0000 - val_loss: 4.8352 - val_accuracy: 0.0000e+00\n",
            "Epoch 41/100\n",
            "4/4 [==============================] - 0s 44ms/step - loss: 0.0710 - accuracy: 1.0000 - val_loss: 5.0812 - val_accuracy: 0.0000e+00\n",
            "Epoch 42/100\n",
            "4/4 [==============================] - 0s 45ms/step - loss: 0.0057 - accuracy: 1.0000 - val_loss: 5.3689 - val_accuracy: 0.0000e+00\n",
            "Epoch 43/100\n",
            "4/4 [==============================] - 0s 44ms/step - loss: 0.0391 - accuracy: 0.9908 - val_loss: 5.6913 - val_accuracy: 0.0000e+00\n",
            "Epoch 44/100\n",
            "4/4 [==============================] - 0s 45ms/step - loss: 0.0220 - accuracy: 1.0000 - val_loss: 5.9967 - val_accuracy: 0.0000e+00\n",
            "Epoch 45/100\n",
            "4/4 [==============================] - 0s 43ms/step - loss: 0.0520 - accuracy: 0.9960 - val_loss: 6.1521 - val_accuracy: 0.0000e+00\n",
            "Epoch 46/100\n",
            "4/4 [==============================] - 0s 42ms/step - loss: 0.0174 - accuracy: 1.0000 - val_loss: 6.1036 - val_accuracy: 0.0000e+00\n",
            "Epoch 47/100\n",
            "4/4 [==============================] - 0s 44ms/step - loss: 0.0111 - accuracy: 1.0000 - val_loss: 6.1512 - val_accuracy: 0.0000e+00\n",
            "Epoch 48/100\n",
            "4/4 [==============================] - 0s 45ms/step - loss: 0.0085 - accuracy: 1.0000 - val_loss: 6.2438 - val_accuracy: 0.0000e+00\n",
            "Epoch 49/100\n",
            "4/4 [==============================] - 0s 43ms/step - loss: 0.0164 - accuracy: 1.0000 - val_loss: 6.4049 - val_accuracy: 0.0000e+00\n",
            "Epoch 50/100\n",
            "4/4 [==============================] - 0s 44ms/step - loss: 0.0374 - accuracy: 1.0000 - val_loss: 6.5760 - val_accuracy: 0.0000e+00\n",
            "Epoch 51/100\n",
            "4/4 [==============================] - 0s 87ms/step - loss: 0.0467 - accuracy: 1.0000 - val_loss: 6.7281 - val_accuracy: 0.0000e+00\n",
            "Epoch 52/100\n",
            "4/4 [==============================] - 0s 44ms/step - loss: 0.0492 - accuracy: 0.9845 - val_loss: 6.8091 - val_accuracy: 0.0000e+00\n",
            "Epoch 53/100\n",
            "4/4 [==============================] - 0s 43ms/step - loss: 0.0150 - accuracy: 1.0000 - val_loss: 6.8614 - val_accuracy: 0.0000e+00\n",
            "Epoch 54/100\n",
            "4/4 [==============================] - 0s 43ms/step - loss: 0.0269 - accuracy: 1.0000 - val_loss: 6.9496 - val_accuracy: 0.0000e+00\n",
            "Epoch 55/100\n",
            "4/4 [==============================] - 0s 42ms/step - loss: 0.0341 - accuracy: 1.0000 - val_loss: 6.9845 - val_accuracy: 0.0000e+00\n",
            "Epoch 56/100\n",
            "4/4 [==============================] - 0s 43ms/step - loss: 0.0308 - accuracy: 1.0000 - val_loss: 6.9970 - val_accuracy: 0.0000e+00\n",
            "Epoch 57/100\n",
            "4/4 [==============================] - 0s 44ms/step - loss: 0.0572 - accuracy: 1.0000 - val_loss: 6.9257 - val_accuracy: 0.0000e+00\n",
            "Epoch 58/100\n",
            "4/4 [==============================] - 0s 43ms/step - loss: 0.0038 - accuracy: 1.0000 - val_loss: 6.9240 - val_accuracy: 0.0000e+00\n",
            "Epoch 59/100\n",
            "4/4 [==============================] - 0s 43ms/step - loss: 0.0592 - accuracy: 0.9845 - val_loss: 6.8390 - val_accuracy: 0.0000e+00\n",
            "Epoch 60/100\n",
            "4/4 [==============================] - 0s 44ms/step - loss: 0.0958 - accuracy: 1.0000 - val_loss: 6.5753 - val_accuracy: 0.0000e+00\n",
            "Epoch 61/100\n",
            "4/4 [==============================] - 0s 44ms/step - loss: 0.0238 - accuracy: 1.0000 - val_loss: 6.3990 - val_accuracy: 0.0000e+00\n",
            "Epoch 62/100\n",
            "4/4 [==============================] - 0s 43ms/step - loss: 0.0278 - accuracy: 1.0000 - val_loss: 6.2761 - val_accuracy: 0.0000e+00\n",
            "Epoch 63/100\n",
            "4/4 [==============================] - 0s 43ms/step - loss: 0.0231 - accuracy: 1.0000 - val_loss: 6.2487 - val_accuracy: 0.0000e+00\n",
            "Epoch 64/100\n",
            "4/4 [==============================] - 0s 44ms/step - loss: 0.0340 - accuracy: 1.0000 - val_loss: 6.2671 - val_accuracy: 0.0000e+00\n",
            "Epoch 65/100\n",
            "4/4 [==============================] - 0s 44ms/step - loss: 0.0400 - accuracy: 1.0000 - val_loss: 6.2661 - val_accuracy: 0.0000e+00\n",
            "Epoch 66/100\n",
            "4/4 [==============================] - 0s 43ms/step - loss: 0.0343 - accuracy: 1.0000 - val_loss: 6.2640 - val_accuracy: 0.0000e+00\n",
            "Epoch 67/100\n",
            "4/4 [==============================] - 0s 44ms/step - loss: 0.0108 - accuracy: 1.0000 - val_loss: 6.3907 - val_accuracy: 0.0000e+00\n",
            "Epoch 68/100\n",
            "4/4 [==============================] - 0s 43ms/step - loss: 0.0277 - accuracy: 1.0000 - val_loss: 6.5417 - val_accuracy: 0.0000e+00\n",
            "Epoch 69/100\n",
            "4/4 [==============================] - 0s 43ms/step - loss: 0.0218 - accuracy: 1.0000 - val_loss: 6.6804 - val_accuracy: 0.0000e+00\n",
            "Epoch 70/100\n",
            "4/4 [==============================] - 0s 43ms/step - loss: 0.0215 - accuracy: 1.0000 - val_loss: 6.7894 - val_accuracy: 0.0000e+00\n",
            "Epoch 71/100\n",
            "4/4 [==============================] - 0s 44ms/step - loss: 0.0061 - accuracy: 1.0000 - val_loss: 6.9367 - val_accuracy: 0.0000e+00\n",
            "Epoch 72/100\n",
            "4/4 [==============================] - 0s 45ms/step - loss: 0.0104 - accuracy: 1.0000 - val_loss: 7.1017 - val_accuracy: 0.0000e+00\n",
            "Epoch 73/100\n",
            "4/4 [==============================] - 0s 43ms/step - loss: 0.0199 - accuracy: 1.0000 - val_loss: 7.2686 - val_accuracy: 0.0000e+00\n",
            "Epoch 74/100\n",
            "4/4 [==============================] - 0s 44ms/step - loss: 0.0178 - accuracy: 1.0000 - val_loss: 7.4970 - val_accuracy: 0.0000e+00\n",
            "Epoch 75/100\n",
            "4/4 [==============================] - 0s 44ms/step - loss: 0.0168 - accuracy: 1.0000 - val_loss: 7.7409 - val_accuracy: 0.0000e+00\n",
            "Epoch 76/100\n",
            "4/4 [==============================] - 0s 43ms/step - loss: 0.0292 - accuracy: 1.0000 - val_loss: 7.9124 - val_accuracy: 0.0000e+00\n",
            "Epoch 77/100\n",
            "4/4 [==============================] - 0s 44ms/step - loss: 0.0020 - accuracy: 1.0000 - val_loss: 8.0297 - val_accuracy: 0.0000e+00\n",
            "Epoch 78/100\n",
            "4/4 [==============================] - 0s 43ms/step - loss: 0.0640 - accuracy: 1.0000 - val_loss: 8.0265 - val_accuracy: 0.0000e+00\n",
            "Epoch 79/100\n",
            "4/4 [==============================] - 0s 43ms/step - loss: 0.0340 - accuracy: 1.0000 - val_loss: 8.0145 - val_accuracy: 0.0000e+00\n",
            "Epoch 80/100\n",
            "4/4 [==============================] - 0s 44ms/step - loss: 0.0173 - accuracy: 1.0000 - val_loss: 7.8969 - val_accuracy: 0.0000e+00\n",
            "Epoch 81/100\n",
            "4/4 [==============================] - 0s 44ms/step - loss: 0.0228 - accuracy: 1.0000 - val_loss: 7.2901 - val_accuracy: 0.0000e+00\n",
            "Epoch 82/100\n",
            "4/4 [==============================] - 0s 43ms/step - loss: 0.0154 - accuracy: 1.0000 - val_loss: 6.8690 - val_accuracy: 0.0000e+00\n",
            "Epoch 83/100\n",
            "4/4 [==============================] - 0s 43ms/step - loss: 0.0120 - accuracy: 1.0000 - val_loss: 6.5708 - val_accuracy: 0.0000e+00\n",
            "Epoch 84/100\n",
            "4/4 [==============================] - 0s 45ms/step - loss: 0.0254 - accuracy: 1.0000 - val_loss: 6.3557 - val_accuracy: 0.0000e+00\n",
            "Epoch 85/100\n",
            "4/4 [==============================] - 0s 44ms/step - loss: 0.0403 - accuracy: 1.0000 - val_loss: 6.0814 - val_accuracy: 0.0000e+00\n",
            "Epoch 86/100\n",
            "4/4 [==============================] - 0s 44ms/step - loss: 0.0095 - accuracy: 1.0000 - val_loss: 5.8344 - val_accuracy: 0.0000e+00\n",
            "Epoch 87/100\n",
            "4/4 [==============================] - 0s 42ms/step - loss: 0.0179 - accuracy: 1.0000 - val_loss: 5.6761 - val_accuracy: 0.0000e+00\n",
            "Epoch 88/100\n",
            "4/4 [==============================] - 0s 43ms/step - loss: 0.0227 - accuracy: 1.0000 - val_loss: 5.6310 - val_accuracy: 0.0000e+00\n",
            "Epoch 89/100\n",
            "4/4 [==============================] - 0s 44ms/step - loss: 0.0133 - accuracy: 1.0000 - val_loss: 5.7013 - val_accuracy: 0.0000e+00\n",
            "Epoch 90/100\n",
            "4/4 [==============================] - 0s 42ms/step - loss: 0.0159 - accuracy: 1.0000 - val_loss: 5.8802 - val_accuracy: 0.0000e+00\n",
            "Epoch 91/100\n",
            "4/4 [==============================] - 0s 43ms/step - loss: 0.0157 - accuracy: 1.0000 - val_loss: 6.1798 - val_accuracy: 0.0000e+00\n",
            "Epoch 92/100\n",
            "4/4 [==============================] - 0s 47ms/step - loss: 0.0140 - accuracy: 1.0000 - val_loss: 6.5163 - val_accuracy: 0.0000e+00\n",
            "Epoch 93/100\n",
            "4/4 [==============================] - 0s 43ms/step - loss: 0.0478 - accuracy: 1.0000 - val_loss: 6.7625 - val_accuracy: 0.0000e+00\n",
            "Epoch 94/100\n",
            "4/4 [==============================] - 0s 44ms/step - loss: 0.0195 - accuracy: 1.0000 - val_loss: 7.0518 - val_accuracy: 0.0000e+00\n",
            "Epoch 95/100\n",
            "4/4 [==============================] - 0s 45ms/step - loss: 0.0206 - accuracy: 1.0000 - val_loss: 7.3120 - val_accuracy: 0.0000e+00\n",
            "Epoch 96/100\n",
            "4/4 [==============================] - 0s 43ms/step - loss: 0.0155 - accuracy: 1.0000 - val_loss: 7.5708 - val_accuracy: 0.0000e+00\n",
            "Epoch 97/100\n",
            "4/4 [==============================] - 0s 45ms/step - loss: 0.0243 - accuracy: 1.0000 - val_loss: 7.8068 - val_accuracy: 0.0000e+00\n",
            "Epoch 98/100\n",
            "4/4 [==============================] - 0s 43ms/step - loss: 0.0166 - accuracy: 1.0000 - val_loss: 8.0258 - val_accuracy: 0.0000e+00\n",
            "Epoch 99/100\n",
            "4/4 [==============================] - 0s 44ms/step - loss: 0.0094 - accuracy: 1.0000 - val_loss: 8.2629 - val_accuracy: 0.0000e+00\n",
            "Epoch 100/100\n",
            "4/4 [==============================] - 0s 43ms/step - loss: 0.0068 - accuracy: 1.0000 - val_loss: 8.5192 - val_accuracy: 0.0000e+00\n"
          ],
          "name": "stdout"
        },
        {
          "output_type": "execute_result",
          "data": {
            "text/plain": [
              "array([[9.9979538e-01, 8.9996721e-04],\n",
              "       [9.9988425e-01, 5.6241179e-04],\n",
              "       [9.9996114e-01, 2.2826607e-04],\n",
              "       [9.9997318e-01, 1.6828955e-04],\n",
              "       [9.9968541e-01, 1.2832290e-03],\n",
              "       [9.9985588e-01, 6.7391008e-04],\n",
              "       [9.9999213e-01, 6.1147126e-05],\n",
              "       [9.9988735e-01, 5.4983865e-04],\n",
              "       [9.9973577e-01, 1.1109717e-03],\n",
              "       [9.9991465e-01, 4.3763488e-04],\n",
              "       [9.9991274e-01, 4.4543363e-04],\n",
              "       [9.9993086e-01, 3.6772434e-04],\n",
              "       [9.9996614e-01, 2.0372165e-04],\n",
              "       [9.9993312e-01, 3.5772132e-04],\n",
              "       [9.9979204e-01, 9.1193931e-04],\n",
              "       [9.9991000e-01, 4.5710980e-04],\n",
              "       [9.9989426e-01, 5.2217033e-04],\n",
              "       [9.9993443e-01, 3.5178792e-04],\n",
              "       [9.9995816e-01, 2.4264080e-04],\n",
              "       [9.9990928e-01, 4.5975685e-04],\n",
              "       [9.9994028e-01, 3.2593077e-04],\n",
              "       [9.9999940e-01, 7.6397364e-06],\n",
              "       [9.9999428e-01, 4.7139245e-05],\n",
              "       [9.9994111e-01, 3.2225673e-04],\n",
              "       [9.9986601e-01, 6.3467171e-04],\n",
              "       [9.9979550e-01, 8.9672953e-04],\n",
              "       [9.9978822e-01, 9.2589163e-04],\n",
              "       [9.9995720e-01, 2.4744702e-04],\n",
              "       [9.9997020e-01, 1.8336045e-04],\n",
              "       [9.9961615e-01, 1.5118719e-03],\n",
              "       [9.9961817e-01, 1.5049422e-03],\n",
              "       [9.9993789e-01, 3.3668437e-04],\n",
              "       [9.9982834e-01, 7.7824097e-04],\n",
              "       [9.9984789e-01, 7.0446980e-04],\n",
              "       [9.9973100e-01, 1.1274762e-03],\n",
              "       [9.9985850e-01, 6.6362839e-04],\n",
              "       [9.9981970e-01, 8.1064645e-04],\n",
              "       [9.9994552e-01, 3.0185474e-04],\n",
              "       [9.9982244e-01, 8.0075860e-04],\n",
              "       [9.9970573e-01, 1.2141411e-03],\n",
              "       [9.9992788e-01, 3.8052860e-04],\n",
              "       [9.9990833e-01, 4.6395959e-04],\n",
              "       [9.9989629e-01, 5.1360147e-04],\n",
              "       [9.9990416e-01, 4.8135762e-04],\n",
              "       [9.9953508e-01, 1.7704176e-03],\n",
              "       [9.9999285e-01, 5.6180139e-05],\n",
              "       [9.9987924e-01, 5.8233138e-04],\n",
              "       [9.9994516e-01, 3.0386087e-04],\n",
              "       [9.9995625e-01, 2.5215332e-04],\n",
              "       [9.9960512e-01, 1.5457718e-03],\n",
              "       [9.9987507e-01, 5.9885741e-04],\n",
              "       [9.9998534e-01, 1.0217741e-04],\n",
              "       [9.9986875e-01, 6.2367984e-04],\n",
              "       [9.9838543e-01, 4.9360595e-03],\n",
              "       [9.9997377e-01, 1.6507678e-04],\n",
              "       [9.9990487e-01, 4.7843112e-04],\n",
              "       [9.9976212e-01, 1.0188300e-03],\n",
              "       [9.9986732e-01, 6.2922284e-04],\n",
              "       [9.9993050e-01, 3.6930802e-04],\n",
              "       [9.9996543e-01, 2.0780363e-04],\n",
              "       [9.9986780e-01, 6.2735815e-04],\n",
              "       [9.9986243e-01, 6.4869126e-04],\n",
              "       [9.9979097e-01, 9.1595098e-04],\n",
              "       [9.9984360e-01, 7.2087994e-04],\n",
              "       [9.9950516e-01, 1.8637779e-03],\n",
              "       [9.9992871e-01, 3.7679230e-04],\n",
              "       [9.9997973e-01, 1.3343770e-04],\n",
              "       [9.9986994e-01, 6.1913783e-04],\n",
              "       [9.9985898e-01, 6.6212669e-04],\n",
              "       [9.9995279e-01, 2.6842832e-04],\n",
              "       [9.9965501e-01, 1.3845684e-03],\n",
              "       [9.9982750e-01, 7.8141084e-04],\n",
              "       [9.9998319e-01, 1.1435889e-04],\n",
              "       [9.9998188e-01, 1.2205989e-04],\n",
              "       [9.9975318e-01, 1.0505560e-03],\n",
              "       [9.9999201e-01, 6.1602004e-05],\n",
              "       [9.9993598e-01, 3.4475411e-04],\n",
              "       [9.9992359e-01, 3.9911453e-04],\n",
              "       [9.9990225e-01, 4.8899429e-04],\n",
              "       [9.9998486e-01, 1.0531663e-04],\n",
              "       [9.9964488e-01, 1.4178084e-03],\n",
              "       [9.9968255e-01, 1.2925989e-03],\n",
              "       [9.9982470e-01, 7.9203787e-04],\n",
              "       [9.9985206e-01, 6.8863889e-04],\n",
              "       [9.9979979e-01, 8.8398618e-04],\n",
              "       [9.9988186e-01, 5.7203061e-04],\n",
              "       [9.9993134e-01, 3.6549906e-04],\n",
              "       [9.9989486e-01, 5.1955984e-04],\n",
              "       [9.9996674e-01, 2.0125270e-04],\n",
              "       [9.9998331e-01, 1.1375461e-04],\n",
              "       [9.9984539e-01, 7.1427063e-04],\n",
              "       [9.9988031e-01, 5.7803420e-04],\n",
              "       [9.9997306e-01, 1.6880463e-04],\n",
              "       [9.9990702e-01, 4.6938373e-04],\n",
              "       [9.9974793e-01, 1.0686080e-03],\n",
              "       [9.9980813e-01, 8.5328222e-04],\n",
              "       [9.9985003e-01, 6.9623889e-04],\n",
              "       [9.9990690e-01, 4.6976216e-04],\n",
              "       [9.9987340e-01, 6.0557190e-04],\n",
              "       [9.9996233e-01, 2.2255190e-04]], dtype=float32)"
            ]
          },
          "metadata": {
            "tags": []
          },
          "execution_count": 77
        },
        {
          "output_type": "display_data",
          "data": {
            "image/png": "[encoded data removed]",
            "text/plain": [
              "<Figure size 432x288 with 1 Axes>"
            ]
          },
          "metadata": {
            "tags": [],
            "needs_background": "light"
          }
        }
      ]
    },
    {
      "cell_type": "code",
      "metadata": {
        "colab": {
          "base_uri": "https://localhost:8080/",
          "height": 283
        },
        "id": "SwUF4ibrzTLL",
        "outputId": "dc441b8b-3b6e-495d-9a74-893c1bf10cf3"
      },
      "source": [
        "plot_acc(vgg_model.history)"
      ],
      "execution_count": 62,
      "outputs": [
        {
          "output_type": "display_data",
          "data": {
            "image/png": "[encoded data removed]",
            "text/plain": [
              "<Figure size 432x288 with 1 Axes>"
            ]
          },
          "metadata": {
            "tags": [],
            "needs_background": "light"
          }
        }
      ]
    }
  ]
}